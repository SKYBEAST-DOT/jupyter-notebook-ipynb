{
 "cells": [
  {
   "cell_type": "code",
   "execution_count": 29,
   "id": "e140480d-6e63-4576-8b1c-e04c82de722c",
   "metadata": {},
   "outputs": [],
   "source": [
    "from tkinter import*\n",
    "from tkinter import messagebox\n",
    "root=Tk()\n",
    "root.title(\"SAHIL BHAI\")\n",
    "root.geometry(\"700x800\")\n",
    "\n",
    "def alert():\n",
    " title=\"hi\"\n",
    " text=\"confirm abv are correct\"\n",
    " reply=messagebox.askquestion(title,text)\n",
    " if reply==\"true\":\n",
    "  print(\"registered\")\n",
    " else:\n",
    "  print(\"not registered\") \n",
    "b1=Button(root,text=\"submit\",command=alert)\n",
    "b1.grid(row=8,column=8)\n",
    "\n",
    "L1=Label(root,text=\"NAME\")\n",
    "L1.grid(row=0,column=0)\n",
    "L2=Label(root,text=\"JOB\")\n",
    "L2.grid(row=0,column=1)\n",
    "e1=Entry(root)\n",
    "e1.grid(row=1,column=1)\n",
    "e2=Entry(root)\n",
    "e2.grid(row=1,column=2)\n",
    "L3=Label(root,text=\"skills\")\n",
    "L3.grid(row=0,column=2)\n",
    "rb1=Radiobutton(root,text=\"WT\",val=1)\n",
    "rb2=Radiobutton(root,text=\"PT\",val=2)\n",
    "rb3=Radiobutton(root,text=\"HR\",val=3)\n",
    "rb4=Radiobutton(root,text=\"IOT\",val=4)\n",
    "L4=Label(root,text=\"lang\")\n",
    "L4.grid(row=0,column=2)\n",
    "cb1=Checkbutton(root,text=\"C\")\n",
    "cb2=Checkbutton(root,text=\"PYTHON\")\n",
    "cb3=Checkbutton(root,text=\"JAVA\")\n",
    "\n",
    "root.mainloop()"
   ]
  },
  {
   "cell_type": "code",
   "execution_count": null,
   "id": "b1f6dbe1-de1e-4a4c-91c0-b98305d2feae",
   "metadata": {},
   "outputs": [],
   "source": []
  }
 ],
 "metadata": {
  "kernelspec": {
   "display_name": "Python 3 (ipykernel)",
   "language": "python",
   "name": "python3"
  },
  "language_info": {
   "codemirror_mode": {
    "name": "ipython",
    "version": 3
   },
   "file_extension": ".py",
   "mimetype": "text/x-python",
   "name": "python",
   "nbconvert_exporter": "python",
   "pygments_lexer": "ipython3",
   "version": "3.12.7"
  }
 },
 "nbformat": 4,
 "nbformat_minor": 5
}
