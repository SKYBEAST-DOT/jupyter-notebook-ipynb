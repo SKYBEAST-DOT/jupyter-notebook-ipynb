{
 "cells": [
  {
   "cell_type": "code",
   "execution_count": 7,
   "id": "633b3fc2-f5fd-490f-beaf-cc16cb629a2b",
   "metadata": {},
   "outputs": [
    {
     "ename": "IndentationError",
     "evalue": "unexpected indent (4191360793.py, line 8)",
     "output_type": "error",
     "traceback": [
      "\u001b[1;36m  Cell \u001b[1;32mIn[7], line 8\u001b[1;36m\u001b[0m\n\u001b[1;33m    for line in lines:\u001b[0m\n\u001b[1;37m    ^\u001b[0m\n\u001b[1;31mIndentationError\u001b[0m\u001b[1;31m:\u001b[0m unexpected indent\n"
     ]
    }
   ],
   "source": [
    "filename=\"sagar.txt\"\n",
    "with open(filename,\"w\")as file:\n",
    "    lines=[\n",
    "        \"hello everyone\"\n",
    "        \"i have knowledge of multiple programming languages \"\n",
    "        \"which are python  and c  and unix shell script\"\n",
    "    ]\n",
    "    for lines in line:\n",
    "    write(lines+\"\\n\")\n",
    "print(f\"{filename}has been created)          "
   ]
  },
  {
   "cell_type": "code",
   "execution_count": null,
   "id": "1256ad83-6107-4814-8ee8-d165a7da3637",
   "metadata": {},
   "outputs": [],
   "source": []
  }
 ],
 "metadata": {
  "kernelspec": {
   "display_name": "Python 3 (ipykernel)",
   "language": "python",
   "name": "python3"
  },
  "language_info": {
   "codemirror_mode": {
    "name": "ipython",
    "version": 3
   },
   "file_extension": ".py",
   "mimetype": "text/x-python",
   "name": "python",
   "nbconvert_exporter": "python",
   "pygments_lexer": "ipython3",
   "version": "3.12.7"
  }
 },
 "nbformat": 4,
 "nbformat_minor": 5
}
