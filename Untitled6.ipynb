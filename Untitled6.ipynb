{
 "cells": [
  {
   "cell_type": "code",
   "execution_count": 5,
   "id": "a5dc4af9-5f4a-402f-9628-598e055af26e",
   "metadata": {},
   "outputs": [
    {
     "name": "stdout",
     "output_type": "stream",
     "text": [
      "SAGAR.txthas been created\n"
     ]
    }
   ],
   "source": [
    "filename=\"SAGAR.txt\"\n",
    "with open(filename,'w')as file:\n",
    "    lines= [\n",
    "        \"WELCOME TO CODING\"\n",
    "        \"HOPE YOU ENJOY IT\"\n",
    "        \"OTHERWISE NOP\"\n",
    "    ]\n",
    "    for lines in line:\n",
    "        file.write(lines+\"\\n\")\n",
    "print(f\"{filename}has been created\")"
   ]
  },
  {
   "cell_type": "code",
   "execution_count": null,
   "id": "8d0194a8-4e1c-483f-bbaa-c57252a4329e",
   "metadata": {
    "scrolled": true
   },
   "outputs": [],
   "source": [
    "fi"
   ]
  },
  {
   "cell_type": "code",
   "execution_count": 44,
   "id": "99f56bb1-c704-4269-9072-d04f87d0a52d",
   "metadata": {
    "scrolled": true
   },
   "outputs": [],
   "source": [
    "with open(\"SAGAR_file.txt\",\"a\")as file:\n",
    "    data=\"apending this line to another file\\n\"\n",
    "    file.write(data)"
   ]
  },
  {
   "cell_type": "code",
   "execution_count": 48,
   "id": "721b40ab-2a63-411d-80a6-f38ff0d0ae87",
   "metadata": {
    "scrolled": true
   },
   "outputs": [
    {
     "ename": "NameError",
     "evalue": "name 'fileobj' is not defined",
     "output_type": "error",
     "traceback": [
      "\u001b[1;31m---------------------------------------------------------------------------\u001b[0m",
      "\u001b[1;31mNameError\u001b[0m                                 Traceback (most recent call last)",
      "Cell \u001b[1;32mIn[48], line 1\u001b[0m\n\u001b[1;32m----> 1\u001b[0m fop\u001b[38;5;241m=\u001b[39mfileobj(filename,\u001b[38;5;124m\"\u001b[39m\u001b[38;5;124mr\u001b[39m\u001b[38;5;124m\"\u001b[39m)\n",
      "\u001b[1;31mNameError\u001b[0m: name 'fileobj' is not defined"
     ]
    }
   ],
   "source": [
    "fop=fileobj(filename,\"r\")"
   ]
  },
  {
   "cell_type": "code",
   "execution_count": 50,
   "id": "8c408d1e-b05f-4150-9639-b2c8e254b067",
   "metadata": {},
   "outputs": [
    {
     "name": "stdout",
     "output_type": "stream",
     "text": [
      "Lines have been appended to SAGAR.txt\n"
     ]
    }
   ],
   "source": [
    "filename = \"SAGAR.txt\"\n",
    "\n",
    "# Open the file in append mode\n",
    "with open(filename, 'a') as file:\n",
    "    # List of lines to append\n",
    "    lines = [\n",
    "        \"WELCOME TO CODING\",\n",
    "        \"HOPE YOU ENJOY IT\",\n",
    "        \"OTHERWISE NOP\"\n",
    "    ]\n",
    "    \n",
    "    # Write each line to the file\n",
    "    for line in lines:\n",
    "        file.write(line + \"\\n\")\n",
    "\n",
    "# Confirm appending\n",
    "print(f\"Lines have been appended to {filename}\")\n"
   ]
  },
  {
   "cell_type": "code",
   "execution_count": 52,
   "id": "50103a8f-0b5b-4997-b405-5f85bacc526e",
   "metadata": {},
   "outputs": [
    {
     "name": "stdout",
     "output_type": "stream",
     "text": [
      "File Content:\n",
      "W\n",
      "E\n",
      "L\n",
      "C\n",
      "O\n",
      "M\n",
      "E\n",
      "\n",
      "T\n",
      "O\n",
      "\n",
      "C\n",
      "O\n",
      "D\n",
      "I\n",
      "N\n",
      "G\n",
      "H\n",
      "O\n",
      "P\n",
      "E\n",
      "\n",
      "Y\n",
      "O\n",
      "U\n",
      "\n",
      "E\n",
      "N\n",
      "J\n",
      "O\n",
      "Y\n",
      "\n",
      "I\n",
      "T\n",
      "O\n",
      "T\n",
      "H\n",
      "E\n",
      "R\n",
      "W\n",
      "I\n",
      "S\n",
      "E\n",
      "\n",
      "N\n",
      "O\n",
      "P\n",
      "GO TO HELL\n",
      "GO TO HELL\n",
      "GO TO HELL\n",
      "GO TO HELL\n",
      "GO TO HELL\n",
      "WELCOME TO CODING\n",
      "HOPE YOU ENJOY IT\n",
      "OTHERWISE NOP\n"
     ]
    }
   ],
   "source": [
    "filename = \"SAGAR.txt\"\n",
    "\n",
    "# Open the file in read mode\n",
    "with open(filename, 'r') as file:\n",
    "    # Read and print each line in the file\n",
    "    print(\"File Content:\")\n",
    "    for line in file:\n",
    "        print(line.strip())  # .strip() removes extra newlines\n"
   ]
  },
  {
   "cell_type": "code",
   "execution_count": 54,
   "id": "d9a5ab55-80a8-4796-830a-43337b71b8db",
   "metadata": {},
   "outputs": [
    {
     "name": "stdout",
     "output_type": "stream",
     "text": [
      "file contents\n",
      "W\n",
      "E\n",
      "L\n",
      "C\n",
      "O\n",
      "M\n",
      "E\n",
      "\n",
      "T\n",
      "O\n",
      "\n",
      "C\n",
      "O\n",
      "D\n",
      "I\n",
      "N\n",
      "G\n",
      "H\n",
      "O\n",
      "P\n",
      "E\n",
      "\n",
      "Y\n",
      "O\n",
      "U\n",
      "\n",
      "E\n",
      "N\n",
      "J\n",
      "O\n",
      "Y\n",
      "\n",
      "I\n",
      "T\n",
      "O\n",
      "T\n",
      "H\n",
      "E\n",
      "R\n",
      "W\n",
      "I\n",
      "S\n",
      "E\n",
      "\n",
      "N\n",
      "O\n",
      "P\n",
      "GO TO HELL\n",
      "GO TO HELL\n",
      "GO TO HELL\n",
      "GO TO HELL\n",
      "GO TO HELL\n",
      "WELCOME TO CODING\n",
      "HOPE YOU ENJOY IT\n",
      "OTHERWISE NOP\n"
     ]
    }
   ],
   "source": [
    "filename=\"sagar.txt\"\n",
    "with open(filename,\"r\")as file:\n",
    "    print(\"file contents\")\n",
    "    for line in file:\n",
    "        print(line.strip())"
   ]
  },
  {
   "cell_type": "code",
   "execution_count": null,
   "id": "cebeb311-5927-4074-8b22-e5db034d66c6",
   "metadata": {},
   "outputs": [],
   "source": []
  }
 ],
 "metadata": {
  "kernelspec": {
   "display_name": "Python 3 (ipykernel)",
   "language": "python",
   "name": "python3"
  },
  "language_info": {
   "codemirror_mode": {
    "name": "ipython",
    "version": 3
   },
   "file_extension": ".py",
   "mimetype": "text/x-python",
   "name": "python",
   "nbconvert_exporter": "python",
   "pygments_lexer": "ipython3",
   "version": "3.12.7"
  }
 },
 "nbformat": 4,
 "nbformat_minor": 5
}
